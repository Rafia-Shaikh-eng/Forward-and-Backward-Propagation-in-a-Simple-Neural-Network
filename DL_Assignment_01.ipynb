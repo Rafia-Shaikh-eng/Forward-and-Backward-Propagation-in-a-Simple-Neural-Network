{
  "cells": [
    {
      "cell_type": "code",
      "source": [
        "import pandas as pd\n",
        "import numpy as np"
      ],
      "metadata": {
        "id": "jLP1VNHUgDre"
      },
      "id": "jLP1VNHUgDre",
      "execution_count": 14,
      "outputs": []
    },
    {
      "cell_type": "code",
      "source": [
        "# Loading the datasets\n",
        "train_data = pd.read_csv('/content/Training_Dataset.csv')\n",
        "test_data = pd.read_csv('/content/Testing_Dataset.csv')"
      ],
      "metadata": {
        "id": "w_6vfQIzfRTe"
      },
      "id": "w_6vfQIzfRTe",
      "execution_count": 15,
      "outputs": []
    },
    {
      "cell_type": "code",
      "source": [
        "train_data.head(5)"
      ],
      "metadata": {
        "colab": {
          "base_uri": "https://localhost:8080/",
          "height": 206
        },
        "id": "zg2L0V3Qf-Iu",
        "outputId": "c5f59145-7c10-40d3-818d-1bb3dc0de0bd"
      },
      "id": "zg2L0V3Qf-Iu",
      "execution_count": 16,
      "outputs": [
        {
          "output_type": "execute_result",
          "data": {
            "text/plain": [
              "   Feature 1  Feature 2  Label\n",
              "0   0.374540   0.950714    0.0\n",
              "1   0.731994   0.598658    0.0\n",
              "2   0.156019   0.155995    1.0\n",
              "3   0.058084   0.866176    1.0\n",
              "4   0.601115   0.708073    1.0"
            ],
            "text/html": [
              "\n",
              "  <div id=\"df-f7a43eb2-ab5f-41ed-97cd-6874ec3cc02f\" class=\"colab-df-container\">\n",
              "    <div>\n",
              "<style scoped>\n",
              "    .dataframe tbody tr th:only-of-type {\n",
              "        vertical-align: middle;\n",
              "    }\n",
              "\n",
              "    .dataframe tbody tr th {\n",
              "        vertical-align: top;\n",
              "    }\n",
              "\n",
              "    .dataframe thead th {\n",
              "        text-align: right;\n",
              "    }\n",
              "</style>\n",
              "<table border=\"1\" class=\"dataframe\">\n",
              "  <thead>\n",
              "    <tr style=\"text-align: right;\">\n",
              "      <th></th>\n",
              "      <th>Feature 1</th>\n",
              "      <th>Feature 2</th>\n",
              "      <th>Label</th>\n",
              "    </tr>\n",
              "  </thead>\n",
              "  <tbody>\n",
              "    <tr>\n",
              "      <th>0</th>\n",
              "      <td>0.374540</td>\n",
              "      <td>0.950714</td>\n",
              "      <td>0.0</td>\n",
              "    </tr>\n",
              "    <tr>\n",
              "      <th>1</th>\n",
              "      <td>0.731994</td>\n",
              "      <td>0.598658</td>\n",
              "      <td>0.0</td>\n",
              "    </tr>\n",
              "    <tr>\n",
              "      <th>2</th>\n",
              "      <td>0.156019</td>\n",
              "      <td>0.155995</td>\n",
              "      <td>1.0</td>\n",
              "    </tr>\n",
              "    <tr>\n",
              "      <th>3</th>\n",
              "      <td>0.058084</td>\n",
              "      <td>0.866176</td>\n",
              "      <td>1.0</td>\n",
              "    </tr>\n",
              "    <tr>\n",
              "      <th>4</th>\n",
              "      <td>0.601115</td>\n",
              "      <td>0.708073</td>\n",
              "      <td>1.0</td>\n",
              "    </tr>\n",
              "  </tbody>\n",
              "</table>\n",
              "</div>\n",
              "    <div class=\"colab-df-buttons\">\n",
              "\n",
              "  <div class=\"colab-df-container\">\n",
              "    <button class=\"colab-df-convert\" onclick=\"convertToInteractive('df-f7a43eb2-ab5f-41ed-97cd-6874ec3cc02f')\"\n",
              "            title=\"Convert this dataframe to an interactive table.\"\n",
              "            style=\"display:none;\">\n",
              "\n",
              "  <svg xmlns=\"http://www.w3.org/2000/svg\" height=\"24px\" viewBox=\"0 -960 960 960\">\n",
              "    <path d=\"M120-120v-720h720v720H120Zm60-500h600v-160H180v160Zm220 220h160v-160H400v160Zm0 220h160v-160H400v160ZM180-400h160v-160H180v160Zm440 0h160v-160H620v160ZM180-180h160v-160H180v160Zm440 0h160v-160H620v160Z\"/>\n",
              "  </svg>\n",
              "    </button>\n",
              "\n",
              "  <style>\n",
              "    .colab-df-container {\n",
              "      display:flex;\n",
              "      gap: 12px;\n",
              "    }\n",
              "\n",
              "    .colab-df-convert {\n",
              "      background-color: #E8F0FE;\n",
              "      border: none;\n",
              "      border-radius: 50%;\n",
              "      cursor: pointer;\n",
              "      display: none;\n",
              "      fill: #1967D2;\n",
              "      height: 32px;\n",
              "      padding: 0 0 0 0;\n",
              "      width: 32px;\n",
              "    }\n",
              "\n",
              "    .colab-df-convert:hover {\n",
              "      background-color: #E2EBFA;\n",
              "      box-shadow: 0px 1px 2px rgba(60, 64, 67, 0.3), 0px 1px 3px 1px rgba(60, 64, 67, 0.15);\n",
              "      fill: #174EA6;\n",
              "    }\n",
              "\n",
              "    .colab-df-buttons div {\n",
              "      margin-bottom: 4px;\n",
              "    }\n",
              "\n",
              "    [theme=dark] .colab-df-convert {\n",
              "      background-color: #3B4455;\n",
              "      fill: #D2E3FC;\n",
              "    }\n",
              "\n",
              "    [theme=dark] .colab-df-convert:hover {\n",
              "      background-color: #434B5C;\n",
              "      box-shadow: 0px 1px 3px 1px rgba(0, 0, 0, 0.15);\n",
              "      filter: drop-shadow(0px 1px 2px rgba(0, 0, 0, 0.3));\n",
              "      fill: #FFFFFF;\n",
              "    }\n",
              "  </style>\n",
              "\n",
              "    <script>\n",
              "      const buttonEl =\n",
              "        document.querySelector('#df-f7a43eb2-ab5f-41ed-97cd-6874ec3cc02f button.colab-df-convert');\n",
              "      buttonEl.style.display =\n",
              "        google.colab.kernel.accessAllowed ? 'block' : 'none';\n",
              "\n",
              "      async function convertToInteractive(key) {\n",
              "        const element = document.querySelector('#df-f7a43eb2-ab5f-41ed-97cd-6874ec3cc02f');\n",
              "        const dataTable =\n",
              "          await google.colab.kernel.invokeFunction('convertToInteractive',\n",
              "                                                    [key], {});\n",
              "        if (!dataTable) return;\n",
              "\n",
              "        const docLinkHtml = 'Like what you see? Visit the ' +\n",
              "          '<a target=\"_blank\" href=https://colab.research.google.com/notebooks/data_table.ipynb>data table notebook</a>'\n",
              "          + ' to learn more about interactive tables.';\n",
              "        element.innerHTML = '';\n",
              "        dataTable['output_type'] = 'display_data';\n",
              "        await google.colab.output.renderOutput(dataTable, element);\n",
              "        const docLink = document.createElement('div');\n",
              "        docLink.innerHTML = docLinkHtml;\n",
              "        element.appendChild(docLink);\n",
              "      }\n",
              "    </script>\n",
              "  </div>\n",
              "\n",
              "\n",
              "    <div id=\"df-6368a0f0-c68f-4aca-b8ce-0a41722778a4\">\n",
              "      <button class=\"colab-df-quickchart\" onclick=\"quickchart('df-6368a0f0-c68f-4aca-b8ce-0a41722778a4')\"\n",
              "                title=\"Suggest charts\"\n",
              "                style=\"display:none;\">\n",
              "\n",
              "<svg xmlns=\"http://www.w3.org/2000/svg\" height=\"24px\"viewBox=\"0 0 24 24\"\n",
              "     width=\"24px\">\n",
              "    <g>\n",
              "        <path d=\"M19 3H5c-1.1 0-2 .9-2 2v14c0 1.1.9 2 2 2h14c1.1 0 2-.9 2-2V5c0-1.1-.9-2-2-2zM9 17H7v-7h2v7zm4 0h-2V7h2v10zm4 0h-2v-4h2v4z\"/>\n",
              "    </g>\n",
              "</svg>\n",
              "      </button>\n",
              "\n",
              "<style>\n",
              "  .colab-df-quickchart {\n",
              "      --bg-color: #E8F0FE;\n",
              "      --fill-color: #1967D2;\n",
              "      --hover-bg-color: #E2EBFA;\n",
              "      --hover-fill-color: #174EA6;\n",
              "      --disabled-fill-color: #AAA;\n",
              "      --disabled-bg-color: #DDD;\n",
              "  }\n",
              "\n",
              "  [theme=dark] .colab-df-quickchart {\n",
              "      --bg-color: #3B4455;\n",
              "      --fill-color: #D2E3FC;\n",
              "      --hover-bg-color: #434B5C;\n",
              "      --hover-fill-color: #FFFFFF;\n",
              "      --disabled-bg-color: #3B4455;\n",
              "      --disabled-fill-color: #666;\n",
              "  }\n",
              "\n",
              "  .colab-df-quickchart {\n",
              "    background-color: var(--bg-color);\n",
              "    border: none;\n",
              "    border-radius: 50%;\n",
              "    cursor: pointer;\n",
              "    display: none;\n",
              "    fill: var(--fill-color);\n",
              "    height: 32px;\n",
              "    padding: 0;\n",
              "    width: 32px;\n",
              "  }\n",
              "\n",
              "  .colab-df-quickchart:hover {\n",
              "    background-color: var(--hover-bg-color);\n",
              "    box-shadow: 0 1px 2px rgba(60, 64, 67, 0.3), 0 1px 3px 1px rgba(60, 64, 67, 0.15);\n",
              "    fill: var(--button-hover-fill-color);\n",
              "  }\n",
              "\n",
              "  .colab-df-quickchart-complete:disabled,\n",
              "  .colab-df-quickchart-complete:disabled:hover {\n",
              "    background-color: var(--disabled-bg-color);\n",
              "    fill: var(--disabled-fill-color);\n",
              "    box-shadow: none;\n",
              "  }\n",
              "\n",
              "  .colab-df-spinner {\n",
              "    border: 2px solid var(--fill-color);\n",
              "    border-color: transparent;\n",
              "    border-bottom-color: var(--fill-color);\n",
              "    animation:\n",
              "      spin 1s steps(1) infinite;\n",
              "  }\n",
              "\n",
              "  @keyframes spin {\n",
              "    0% {\n",
              "      border-color: transparent;\n",
              "      border-bottom-color: var(--fill-color);\n",
              "      border-left-color: var(--fill-color);\n",
              "    }\n",
              "    20% {\n",
              "      border-color: transparent;\n",
              "      border-left-color: var(--fill-color);\n",
              "      border-top-color: var(--fill-color);\n",
              "    }\n",
              "    30% {\n",
              "      border-color: transparent;\n",
              "      border-left-color: var(--fill-color);\n",
              "      border-top-color: var(--fill-color);\n",
              "      border-right-color: var(--fill-color);\n",
              "    }\n",
              "    40% {\n",
              "      border-color: transparent;\n",
              "      border-right-color: var(--fill-color);\n",
              "      border-top-color: var(--fill-color);\n",
              "    }\n",
              "    60% {\n",
              "      border-color: transparent;\n",
              "      border-right-color: var(--fill-color);\n",
              "    }\n",
              "    80% {\n",
              "      border-color: transparent;\n",
              "      border-right-color: var(--fill-color);\n",
              "      border-bottom-color: var(--fill-color);\n",
              "    }\n",
              "    90% {\n",
              "      border-color: transparent;\n",
              "      border-bottom-color: var(--fill-color);\n",
              "    }\n",
              "  }\n",
              "</style>\n",
              "\n",
              "      <script>\n",
              "        async function quickchart(key) {\n",
              "          const quickchartButtonEl =\n",
              "            document.querySelector('#' + key + ' button');\n",
              "          quickchartButtonEl.disabled = true;  // To prevent multiple clicks.\n",
              "          quickchartButtonEl.classList.add('colab-df-spinner');\n",
              "          try {\n",
              "            const charts = await google.colab.kernel.invokeFunction(\n",
              "                'suggestCharts', [key], {});\n",
              "          } catch (error) {\n",
              "            console.error('Error during call to suggestCharts:', error);\n",
              "          }\n",
              "          quickchartButtonEl.classList.remove('colab-df-spinner');\n",
              "          quickchartButtonEl.classList.add('colab-df-quickchart-complete');\n",
              "        }\n",
              "        (() => {\n",
              "          let quickchartButtonEl =\n",
              "            document.querySelector('#df-6368a0f0-c68f-4aca-b8ce-0a41722778a4 button');\n",
              "          quickchartButtonEl.style.display =\n",
              "            google.colab.kernel.accessAllowed ? 'block' : 'none';\n",
              "        })();\n",
              "      </script>\n",
              "    </div>\n",
              "\n",
              "    </div>\n",
              "  </div>\n"
            ],
            "application/vnd.google.colaboratory.intrinsic+json": {
              "type": "dataframe",
              "variable_name": "train_data",
              "summary": "{\n  \"name\": \"train_data\",\n  \"rows\": 10,\n  \"fields\": [\n    {\n      \"column\": \"Feature 1\",\n      \"properties\": {\n        \"dtype\": \"number\",\n        \"std\": 0.2802904318399132,\n        \"min\": 0.0205844942958024,\n        \"max\": 0.8324426408004217,\n        \"num_unique_values\": 10,\n        \"samples\": [\n          0.3042422429595377,\n          0.7319939418114051,\n          0.0205844942958024\n        ],\n        \"semantic_type\": \"\",\n        \"description\": \"\"\n      }\n    },\n    {\n      \"column\": \"Feature 2\",\n      \"properties\": {\n        \"dtype\": \"number\",\n        \"std\": 0.32237230180023,\n        \"min\": 0.1559945203362026,\n        \"max\": 0.9699098521619944,\n        \"num_unique_values\": 10,\n        \"samples\": [\n          0.5247564316322378,\n          0.5986584841970366,\n          0.9699098521619944\n        ],\n        \"semantic_type\": \"\",\n        \"description\": \"\"\n      }\n    },\n    {\n      \"column\": \"Label\",\n      \"properties\": {\n        \"dtype\": \"number\",\n        \"std\": 0.48304589153964794,\n        \"min\": 0.0,\n        \"max\": 1.0,\n        \"num_unique_values\": 2,\n        \"samples\": [\n          1.0,\n          0.0\n        ],\n        \"semantic_type\": \"\",\n        \"description\": \"\"\n      }\n    }\n  ]\n}"
            }
          },
          "metadata": {},
          "execution_count": 16
        }
      ]
    },
    {
      "cell_type": "code",
      "source": [
        "test_data.head(5)"
      ],
      "metadata": {
        "colab": {
          "base_uri": "https://localhost:8080/",
          "height": 206
        },
        "id": "eWEquCVkgApS",
        "outputId": "df627611-f5ce-4ede-a88a-35abfa6186df"
      },
      "id": "eWEquCVkgApS",
      "execution_count": 17,
      "outputs": [
        {
          "output_type": "execute_result",
          "data": {
            "text/plain": [
              "   Feature 1  Feature 2  Label\n",
              "0   0.785176   0.199674    1.0\n",
              "1   0.514234   0.592415    1.0\n",
              "2   0.046450   0.607545    0.0\n",
              "3   0.170524   0.065052    1.0\n",
              "4   0.948886   0.965632    0.0"
            ],
            "text/html": [
              "\n",
              "  <div id=\"df-661a7441-39dc-45c5-a360-8eee86006245\" class=\"colab-df-container\">\n",
              "    <div>\n",
              "<style scoped>\n",
              "    .dataframe tbody tr th:only-of-type {\n",
              "        vertical-align: middle;\n",
              "    }\n",
              "\n",
              "    .dataframe tbody tr th {\n",
              "        vertical-align: top;\n",
              "    }\n",
              "\n",
              "    .dataframe thead th {\n",
              "        text-align: right;\n",
              "    }\n",
              "</style>\n",
              "<table border=\"1\" class=\"dataframe\">\n",
              "  <thead>\n",
              "    <tr style=\"text-align: right;\">\n",
              "      <th></th>\n",
              "      <th>Feature 1</th>\n",
              "      <th>Feature 2</th>\n",
              "      <th>Label</th>\n",
              "    </tr>\n",
              "  </thead>\n",
              "  <tbody>\n",
              "    <tr>\n",
              "      <th>0</th>\n",
              "      <td>0.785176</td>\n",
              "      <td>0.199674</td>\n",
              "      <td>1.0</td>\n",
              "    </tr>\n",
              "    <tr>\n",
              "      <th>1</th>\n",
              "      <td>0.514234</td>\n",
              "      <td>0.592415</td>\n",
              "      <td>1.0</td>\n",
              "    </tr>\n",
              "    <tr>\n",
              "      <th>2</th>\n",
              "      <td>0.046450</td>\n",
              "      <td>0.607545</td>\n",
              "      <td>0.0</td>\n",
              "    </tr>\n",
              "    <tr>\n",
              "      <th>3</th>\n",
              "      <td>0.170524</td>\n",
              "      <td>0.065052</td>\n",
              "      <td>1.0</td>\n",
              "    </tr>\n",
              "    <tr>\n",
              "      <th>4</th>\n",
              "      <td>0.948886</td>\n",
              "      <td>0.965632</td>\n",
              "      <td>0.0</td>\n",
              "    </tr>\n",
              "  </tbody>\n",
              "</table>\n",
              "</div>\n",
              "    <div class=\"colab-df-buttons\">\n",
              "\n",
              "  <div class=\"colab-df-container\">\n",
              "    <button class=\"colab-df-convert\" onclick=\"convertToInteractive('df-661a7441-39dc-45c5-a360-8eee86006245')\"\n",
              "            title=\"Convert this dataframe to an interactive table.\"\n",
              "            style=\"display:none;\">\n",
              "\n",
              "  <svg xmlns=\"http://www.w3.org/2000/svg\" height=\"24px\" viewBox=\"0 -960 960 960\">\n",
              "    <path d=\"M120-120v-720h720v720H120Zm60-500h600v-160H180v160Zm220 220h160v-160H400v160Zm0 220h160v-160H400v160ZM180-400h160v-160H180v160Zm440 0h160v-160H620v160ZM180-180h160v-160H180v160Zm440 0h160v-160H620v160Z\"/>\n",
              "  </svg>\n",
              "    </button>\n",
              "\n",
              "  <style>\n",
              "    .colab-df-container {\n",
              "      display:flex;\n",
              "      gap: 12px;\n",
              "    }\n",
              "\n",
              "    .colab-df-convert {\n",
              "      background-color: #E8F0FE;\n",
              "      border: none;\n",
              "      border-radius: 50%;\n",
              "      cursor: pointer;\n",
              "      display: none;\n",
              "      fill: #1967D2;\n",
              "      height: 32px;\n",
              "      padding: 0 0 0 0;\n",
              "      width: 32px;\n",
              "    }\n",
              "\n",
              "    .colab-df-convert:hover {\n",
              "      background-color: #E2EBFA;\n",
              "      box-shadow: 0px 1px 2px rgba(60, 64, 67, 0.3), 0px 1px 3px 1px rgba(60, 64, 67, 0.15);\n",
              "      fill: #174EA6;\n",
              "    }\n",
              "\n",
              "    .colab-df-buttons div {\n",
              "      margin-bottom: 4px;\n",
              "    }\n",
              "\n",
              "    [theme=dark] .colab-df-convert {\n",
              "      background-color: #3B4455;\n",
              "      fill: #D2E3FC;\n",
              "    }\n",
              "\n",
              "    [theme=dark] .colab-df-convert:hover {\n",
              "      background-color: #434B5C;\n",
              "      box-shadow: 0px 1px 3px 1px rgba(0, 0, 0, 0.15);\n",
              "      filter: drop-shadow(0px 1px 2px rgba(0, 0, 0, 0.3));\n",
              "      fill: #FFFFFF;\n",
              "    }\n",
              "  </style>\n",
              "\n",
              "    <script>\n",
              "      const buttonEl =\n",
              "        document.querySelector('#df-661a7441-39dc-45c5-a360-8eee86006245 button.colab-df-convert');\n",
              "      buttonEl.style.display =\n",
              "        google.colab.kernel.accessAllowed ? 'block' : 'none';\n",
              "\n",
              "      async function convertToInteractive(key) {\n",
              "        const element = document.querySelector('#df-661a7441-39dc-45c5-a360-8eee86006245');\n",
              "        const dataTable =\n",
              "          await google.colab.kernel.invokeFunction('convertToInteractive',\n",
              "                                                    [key], {});\n",
              "        if (!dataTable) return;\n",
              "\n",
              "        const docLinkHtml = 'Like what you see? Visit the ' +\n",
              "          '<a target=\"_blank\" href=https://colab.research.google.com/notebooks/data_table.ipynb>data table notebook</a>'\n",
              "          + ' to learn more about interactive tables.';\n",
              "        element.innerHTML = '';\n",
              "        dataTable['output_type'] = 'display_data';\n",
              "        await google.colab.output.renderOutput(dataTable, element);\n",
              "        const docLink = document.createElement('div');\n",
              "        docLink.innerHTML = docLinkHtml;\n",
              "        element.appendChild(docLink);\n",
              "      }\n",
              "    </script>\n",
              "  </div>\n",
              "\n",
              "\n",
              "    <div id=\"df-ba3307d0-b1e4-4c46-9f44-8ea730531bf4\">\n",
              "      <button class=\"colab-df-quickchart\" onclick=\"quickchart('df-ba3307d0-b1e4-4c46-9f44-8ea730531bf4')\"\n",
              "                title=\"Suggest charts\"\n",
              "                style=\"display:none;\">\n",
              "\n",
              "<svg xmlns=\"http://www.w3.org/2000/svg\" height=\"24px\"viewBox=\"0 0 24 24\"\n",
              "     width=\"24px\">\n",
              "    <g>\n",
              "        <path d=\"M19 3H5c-1.1 0-2 .9-2 2v14c0 1.1.9 2 2 2h14c1.1 0 2-.9 2-2V5c0-1.1-.9-2-2-2zM9 17H7v-7h2v7zm4 0h-2V7h2v10zm4 0h-2v-4h2v4z\"/>\n",
              "    </g>\n",
              "</svg>\n",
              "      </button>\n",
              "\n",
              "<style>\n",
              "  .colab-df-quickchart {\n",
              "      --bg-color: #E8F0FE;\n",
              "      --fill-color: #1967D2;\n",
              "      --hover-bg-color: #E2EBFA;\n",
              "      --hover-fill-color: #174EA6;\n",
              "      --disabled-fill-color: #AAA;\n",
              "      --disabled-bg-color: #DDD;\n",
              "  }\n",
              "\n",
              "  [theme=dark] .colab-df-quickchart {\n",
              "      --bg-color: #3B4455;\n",
              "      --fill-color: #D2E3FC;\n",
              "      --hover-bg-color: #434B5C;\n",
              "      --hover-fill-color: #FFFFFF;\n",
              "      --disabled-bg-color: #3B4455;\n",
              "      --disabled-fill-color: #666;\n",
              "  }\n",
              "\n",
              "  .colab-df-quickchart {\n",
              "    background-color: var(--bg-color);\n",
              "    border: none;\n",
              "    border-radius: 50%;\n",
              "    cursor: pointer;\n",
              "    display: none;\n",
              "    fill: var(--fill-color);\n",
              "    height: 32px;\n",
              "    padding: 0;\n",
              "    width: 32px;\n",
              "  }\n",
              "\n",
              "  .colab-df-quickchart:hover {\n",
              "    background-color: var(--hover-bg-color);\n",
              "    box-shadow: 0 1px 2px rgba(60, 64, 67, 0.3), 0 1px 3px 1px rgba(60, 64, 67, 0.15);\n",
              "    fill: var(--button-hover-fill-color);\n",
              "  }\n",
              "\n",
              "  .colab-df-quickchart-complete:disabled,\n",
              "  .colab-df-quickchart-complete:disabled:hover {\n",
              "    background-color: var(--disabled-bg-color);\n",
              "    fill: var(--disabled-fill-color);\n",
              "    box-shadow: none;\n",
              "  }\n",
              "\n",
              "  .colab-df-spinner {\n",
              "    border: 2px solid var(--fill-color);\n",
              "    border-color: transparent;\n",
              "    border-bottom-color: var(--fill-color);\n",
              "    animation:\n",
              "      spin 1s steps(1) infinite;\n",
              "  }\n",
              "\n",
              "  @keyframes spin {\n",
              "    0% {\n",
              "      border-color: transparent;\n",
              "      border-bottom-color: var(--fill-color);\n",
              "      border-left-color: var(--fill-color);\n",
              "    }\n",
              "    20% {\n",
              "      border-color: transparent;\n",
              "      border-left-color: var(--fill-color);\n",
              "      border-top-color: var(--fill-color);\n",
              "    }\n",
              "    30% {\n",
              "      border-color: transparent;\n",
              "      border-left-color: var(--fill-color);\n",
              "      border-top-color: var(--fill-color);\n",
              "      border-right-color: var(--fill-color);\n",
              "    }\n",
              "    40% {\n",
              "      border-color: transparent;\n",
              "      border-right-color: var(--fill-color);\n",
              "      border-top-color: var(--fill-color);\n",
              "    }\n",
              "    60% {\n",
              "      border-color: transparent;\n",
              "      border-right-color: var(--fill-color);\n",
              "    }\n",
              "    80% {\n",
              "      border-color: transparent;\n",
              "      border-right-color: var(--fill-color);\n",
              "      border-bottom-color: var(--fill-color);\n",
              "    }\n",
              "    90% {\n",
              "      border-color: transparent;\n",
              "      border-bottom-color: var(--fill-color);\n",
              "    }\n",
              "  }\n",
              "</style>\n",
              "\n",
              "      <script>\n",
              "        async function quickchart(key) {\n",
              "          const quickchartButtonEl =\n",
              "            document.querySelector('#' + key + ' button');\n",
              "          quickchartButtonEl.disabled = true;  // To prevent multiple clicks.\n",
              "          quickchartButtonEl.classList.add('colab-df-spinner');\n",
              "          try {\n",
              "            const charts = await google.colab.kernel.invokeFunction(\n",
              "                'suggestCharts', [key], {});\n",
              "          } catch (error) {\n",
              "            console.error('Error during call to suggestCharts:', error);\n",
              "          }\n",
              "          quickchartButtonEl.classList.remove('colab-df-spinner');\n",
              "          quickchartButtonEl.classList.add('colab-df-quickchart-complete');\n",
              "        }\n",
              "        (() => {\n",
              "          let quickchartButtonEl =\n",
              "            document.querySelector('#df-ba3307d0-b1e4-4c46-9f44-8ea730531bf4 button');\n",
              "          quickchartButtonEl.style.display =\n",
              "            google.colab.kernel.accessAllowed ? 'block' : 'none';\n",
              "        })();\n",
              "      </script>\n",
              "    </div>\n",
              "\n",
              "    </div>\n",
              "  </div>\n"
            ],
            "application/vnd.google.colaboratory.intrinsic+json": {
              "type": "dataframe",
              "variable_name": "test_data",
              "summary": "{\n  \"name\": \"test_data\",\n  \"rows\": 5,\n  \"fields\": [\n    {\n      \"column\": \"Feature 1\",\n      \"properties\": {\n        \"dtype\": \"number\",\n        \"std\": 0.38634392933623396,\n        \"min\": 0.0464504127199977,\n        \"max\": 0.9488855372533332,\n        \"num_unique_values\": 5,\n        \"samples\": [\n          0.5142344384136116,\n          0.9488855372533332,\n          0.0464504127199977\n        ],\n        \"semantic_type\": \"\",\n        \"description\": \"\"\n      }\n    },\n    {\n      \"column\": \"Feature 2\",\n      \"properties\": {\n        \"dtype\": \"number\",\n        \"std\": 0.3589304747986303,\n        \"min\": 0.0650515929852795,\n        \"max\": 0.9656320330745594,\n        \"num_unique_values\": 5,\n        \"samples\": [\n          0.5924145688620425,\n          0.9656320330745594,\n          0.6075448519014384\n        ],\n        \"semantic_type\": \"\",\n        \"description\": \"\"\n      }\n    },\n    {\n      \"column\": \"Label\",\n      \"properties\": {\n        \"dtype\": \"number\",\n        \"std\": 0.5477225575051662,\n        \"min\": 0.0,\n        \"max\": 1.0,\n        \"num_unique_values\": 2,\n        \"samples\": [\n          0.0,\n          1.0\n        ],\n        \"semantic_type\": \"\",\n        \"description\": \"\"\n      }\n    }\n  ]\n}"
            }
          },
          "metadata": {},
          "execution_count": 17
        }
      ]
    },
    {
      "cell_type": "code",
      "source": [
        "# Assuming last column is the target variable\n",
        "X_train = train_data.iloc[:, :-1].values.T\n",
        "y_train = train_data.iloc[:, -1].values.reshape(1, -1)\n",
        "X_test = test_data.iloc[:, :-1].values.T\n",
        "y_test = test_data.iloc[:, -1].values.reshape(1, -1)"
      ],
      "metadata": {
        "id": "5TCb458yfWbi"
      },
      "id": "5TCb458yfWbi",
      "execution_count": 18,
      "outputs": []
    },
    {
      "cell_type": "code",
      "source": [
        "print(\"X train shape : \",X_train.shape)\n",
        "print(\"y train shape : \",y_train.shape)\n",
        "print(\"X test shape : \",X_test.shape)\n",
        "print(\"y test shape : \",y_test.shape)"
      ],
      "metadata": {
        "colab": {
          "base_uri": "https://localhost:8080/"
        },
        "id": "C1u5CmkRfpnV",
        "outputId": "717b80db-58d0-441d-bf79-523c135cf1ea"
      },
      "id": "C1u5CmkRfpnV",
      "execution_count": 19,
      "outputs": [
        {
          "output_type": "stream",
          "name": "stdout",
          "text": [
            "X train shape :  (2, 10)\n",
            "y train shape :  (1, 10)\n",
            "X test shape :  (2, 5)\n",
            "y test shape :  (1, 5)\n"
          ]
        }
      ]
    },
    {
      "cell_type": "code",
      "execution_count": 20,
      "id": "4daee2fb",
      "metadata": {
        "execution": {
          "iopub.execute_input": "2025-02-20T20:10:20.872153Z",
          "iopub.status.busy": "2025-02-20T20:10:20.871643Z",
          "iopub.status.idle": "2025-02-20T20:10:20.876933Z",
          "shell.execute_reply": "2025-02-20T20:10:20.875412Z"
        },
        "papermill": {
          "duration": 0.011969,
          "end_time": "2025-02-20T20:10:20.879425",
          "exception": false,
          "start_time": "2025-02-20T20:10:20.867456",
          "status": "completed"
        },
        "tags": [],
        "id": "4daee2fb"
      },
      "outputs": [],
      "source": [
        "def sigmoid(z):\n",
        "    return 1 / (1 + np.exp(-z))\n",
        "\n",
        "def sigmoid_derivative(a):\n",
        "    return a * (1 - a)"
      ]
    },
    {
      "cell_type": "code",
      "execution_count": 21,
      "id": "e37e4936",
      "metadata": {
        "execution": {
          "iopub.execute_input": "2025-02-20T20:10:20.900233Z",
          "iopub.status.busy": "2025-02-20T20:10:20.899851Z",
          "iopub.status.idle": "2025-02-20T20:10:20.904475Z",
          "shell.execute_reply": "2025-02-20T20:10:20.903416Z"
        },
        "papermill": {
          "duration": 0.010481,
          "end_time": "2025-02-20T20:10:20.906301",
          "exception": false,
          "start_time": "2025-02-20T20:10:20.895820",
          "status": "completed"
        },
        "tags": [],
        "id": "e37e4936"
      },
      "outputs": [],
      "source": [
        "'''this function is use to calculated the loss, since it's a binary classification(either 1 or 0)\n",
        "problem we caculated the binary cross entropy'''\n",
        "def binary_cross_entropy(y_true, y_pred):\n",
        "    ep = 1e-8\n",
        "    return -np.mean(y_true * np.log(y_pred + ep) + (1 - y_true) * np.log(1 - y_pred + ep))"
      ]
    },
    {
      "cell_type": "code",
      "execution_count": 22,
      "id": "24d97b95",
      "metadata": {
        "execution": {
          "iopub.execute_input": "2025-02-20T20:10:20.957749Z",
          "iopub.status.busy": "2025-02-20T20:10:20.957332Z",
          "iopub.status.idle": "2025-02-20T20:10:20.962701Z",
          "shell.execute_reply": "2025-02-20T20:10:20.961747Z"
        },
        "papermill": {
          "duration": 0.011134,
          "end_time": "2025-02-20T20:10:20.964467",
          "exception": false,
          "start_time": "2025-02-20T20:10:20.953333",
          "status": "completed"
        },
        "tags": [],
        "id": "24d97b95"
      },
      "outputs": [],
      "source": [
        "# Initializing the parameters; weights and bias of the connections from input layer to hidde, we assigned random\n",
        "np.random.seed(42)\n",
        "W1 = np.random.randn(3, X_train.shape[0])\n",
        "b1 = np.random.randn(3, 1)\n",
        "W2 = np.random.randn(1, 3)\n",
        "b2 = np.random.randn(1, 1)"
      ]
    },
    {
      "cell_type": "code",
      "source": [
        "print(W1.shape)\n",
        "print(b1.shape)\n",
        "print(W2.shape)\n",
        "print(b2.shape)"
      ],
      "metadata": {
        "colab": {
          "base_uri": "https://localhost:8080/"
        },
        "id": "WgeP2gs2N7R3",
        "outputId": "9c729a18-2f07-4a26-c9ef-07d9aaa6b13c"
      },
      "id": "WgeP2gs2N7R3",
      "execution_count": 37,
      "outputs": [
        {
          "output_type": "stream",
          "name": "stdout",
          "text": [
            "(3, 2)\n",
            "(3, 1)\n",
            "(1, 3)\n",
            "(1, 1)\n"
          ]
        }
      ]
    },
    {
      "cell_type": "code",
      "source": [
        "print(\"W1 : \",W1)\n",
        "print(\"b1 : \",b1)\n",
        "print(\"W2 : \",W2)\n",
        "print(\"b2 : \",b2)"
      ],
      "metadata": {
        "colab": {
          "base_uri": "https://localhost:8080/"
        },
        "id": "9CzU3cAgKKcF",
        "outputId": "05602047-4d0f-4657-a1a9-dc1fead6f551"
      },
      "id": "9CzU3cAgKKcF",
      "execution_count": 34,
      "outputs": [
        {
          "output_type": "stream",
          "name": "stdout",
          "text": [
            "W1 :  [[-0.15262105 -0.28237594]\n",
            " [ 0.65653623  1.38961654]\n",
            " [-0.00414624 -0.16397194]]\n",
            "b1 :  [[ 1.6740907 ]\n",
            " [ 0.52109332]\n",
            " [-0.52400579]]\n",
            "W2 :  [[ 0.82419047 -0.61964613 -0.08077259]]\n",
            "b2 :  [[0.70617719]]\n"
          ]
        }
      ]
    },
    {
      "cell_type": "code",
      "execution_count": 23,
      "id": "f62692e9",
      "metadata": {
        "execution": {
          "iopub.execute_input": "2025-02-20T20:10:20.972253Z",
          "iopub.status.busy": "2025-02-20T20:10:20.971872Z",
          "iopub.status.idle": "2025-02-20T20:10:20.976044Z",
          "shell.execute_reply": "2025-02-20T20:10:20.975078Z"
        },
        "papermill": {
          "duration": 0.010046,
          "end_time": "2025-02-20T20:10:20.977890",
          "exception": false,
          "start_time": "2025-02-20T20:10:20.967844",
          "status": "completed"
        },
        "tags": [],
        "id": "f62692e9"
      },
      "outputs": [],
      "source": [
        "learning_rate = 0.5\n",
        "num_epochs = 1000"
      ]
    },
    {
      "cell_type": "code",
      "source": [
        "''' this is the forward pass function\n",
        "'''\n",
        "def forward_propagation(X, W1, b1, W2, b2):\n",
        "    Z1 = np.dot(W1, X) + b1\n",
        "    A1 = sigmoid(Z1)\n",
        "    Z2 = np.dot(W2, A1) + b2\n",
        "    A2 = sigmoid(Z2)\n",
        "    return Z1, A1, Z2, A2"
      ],
      "metadata": {
        "id": "uXnWw08H91a5"
      },
      "id": "uXnWw08H91a5",
      "execution_count": 24,
      "outputs": []
    },
    {
      "cell_type": "code",
      "source": [
        "Z1, A1, Z2, A2=forward_propagation(X_train, W1, b1, W2, b2)\n",
        "print(\"Z1 = \",Z1)\n",
        "print(\"A1 = \",A1)\n",
        "print(\"Z2 = \",Z2)\n",
        "print(\"A2 = \",A2)"
      ],
      "metadata": {
        "colab": {
          "base_uri": "https://localhost:8080/"
        },
        "id": "12Hry3UsWbZ_",
        "outputId": "62913fd9-74eb-403f-b410-8569a227fd25"
      },
      "id": "12Hry3UsWbZ_",
      "execution_count": 39,
      "outputs": [
        {
          "output_type": "stream",
          "name": "stdout",
          "text": [
            "Z1 =  [[ 1.34846915  1.39332627  1.60622988  1.42063862  1.38240524  1.39706987\n",
            "   1.48708297  1.59455137  1.47947834  1.5259307 ]\n",
            " [ 2.08812081  1.8335796   0.84029778  1.76288002  1.89969648  1.88241057\n",
            "   1.36269202  0.89532994  1.4500496   1.20937771]\n",
            " [-0.68144919 -0.625204   -0.5502314  -0.6662752  -0.64260219 -0.68312913\n",
            "  -0.56227495 -0.55483287 -0.61131258 -0.57355014]]\n",
            "A1 =  [[0.79387924 0.80112273 0.8328873  0.80543851 0.79937701 0.80171851\n",
            "  0.81564004 0.83125549 0.81449377 0.82141015]\n",
            " [0.88974321 0.86218761 0.69852793 0.85357    0.86985717 0.86788776\n",
            "  0.79619687 0.70998886 0.81000607 0.77018882]\n",
            " [0.33593794 0.34859881 0.36581072 0.33933139 0.34465855 0.33556327\n",
            "  0.36302124 0.36474388 0.35175984 0.36041805]]\n",
            "Z2 =  [[0.78202438 0.80404647 0.93024736 0.81369192 0.79817352 0.80205834\n",
            "  0.85573746 0.92188688 0.84714552 0.87681918]]\n",
            "A2 =  [[0.68611625 0.69083939 0.71712547 0.69289567 0.68958364 0.69041461\n",
            "  0.70176932 0.71542642 0.69996801 0.70616264]]\n"
          ]
        }
      ]
    },
    {
      "cell_type": "code",
      "source": [
        "''' this is the backward pass function. This function will take previous decided return the derivatives of the learnable parameters;\n",
        "weights and biases '''\n",
        "def backward_propagation(X, y, A1, A2, W2):\n",
        "    m = X.shape[1]\n",
        "\n",
        "    dA2 = A2 - y\n",
        "    dZ2 = dA2 * sigmoid_derivative(A2)\n",
        "    dW2 = np.dot(dZ2, A1.T) / m\n",
        "    db2 = np.sum(dZ2, axis=1, keepdims=True) / m\n",
        "\n",
        "    dA1 = np.dot(W2.T, dZ2)\n",
        "    dZ1 = dA1 * sigmoid_derivative(A1)\n",
        "    dW1 = np.dot(dZ1, X.T) / m\n",
        "    db1 = np.sum(dZ1, axis=1, keepdims=True) / m\n",
        "\n",
        "    return dW1, db1, dW2, db2\n"
      ],
      "metadata": {
        "id": "jfqiTdu192V4"
      },
      "id": "jfqiTdu192V4",
      "execution_count": 25,
      "outputs": []
    },
    {
      "cell_type": "code",
      "source": [
        "dW1, db1, dW2, db2=backward_propagation(X_train, y_train, A1, A2, W2)\n",
        "print(\"dW1 = \",dW1)\n",
        "print(\"db1 = \",db1)\n",
        "print(\"dW2 = \",dW2)\n",
        "print(\"db2 = \",db2)"
      ],
      "metadata": {
        "colab": {
          "base_uri": "https://localhost:8080/"
        },
        "id": "_rdNPg_2YlAl",
        "outputId": "e8ca17eb-a9b0-448c-ea24-bda070a3addf"
      },
      "id": "_rdNPg_2YlAl",
      "execution_count": 40,
      "outputs": [
        {
          "output_type": "stream",
          "name": "stdout",
          "text": [
            "dW1 =  [[ 5.72223138e-04  2.76126555e-04]\n",
            " [-3.93532722e-05  1.39408264e-04]\n",
            " [-6.70248225e-05 -2.57346280e-05]]\n",
            "db1 =  [[7.13148209e-05]\n",
            " [2.45364542e-04]\n",
            " [2.92990836e-06]]\n",
            "dW2 =  [[-2.32087512e-04  3.31346889e-04 -8.69143980e-05]]\n",
            "db2 =  [[-7.81112752e-05]]\n"
          ]
        }
      ]
    },
    {
      "cell_type": "code",
      "source": [
        "''' and here is the update Weights and bias function, this function will take weights and\n",
        "biases derivatives as input and apply the formula \"W1 -= learning_rate * dW1\" and return the updated learnable parameters'''\n",
        "def update_weights(W1, b1, W2, b2, dW1, db1, dW2, db2, learning_rate=0.5):\n",
        "    W1 -= learning_rate * dW1\n",
        "    b1 -= learning_rate * db1\n",
        "    W2 -= learning_rate * dW2\n",
        "    b2 -= learning_rate * db2\n",
        "    return W1, b1, W2, b2"
      ],
      "metadata": {
        "id": "e9BU6HZf98Ps"
      },
      "id": "e9BU6HZf98Ps",
      "execution_count": 26,
      "outputs": []
    },
    {
      "cell_type": "code",
      "source": [],
      "metadata": {
        "id": "iUsayiibbchT"
      },
      "id": "iUsayiibbchT",
      "execution_count": null,
      "outputs": []
    },
    {
      "cell_type": "code",
      "execution_count": 32,
      "id": "5d682caa",
      "metadata": {
        "execution": {
          "iopub.execute_input": "2025-02-20T20:10:20.985725Z",
          "iopub.status.busy": "2025-02-20T20:10:20.985377Z",
          "iopub.status.idle": "2025-02-20T20:10:21.127522Z",
          "shell.execute_reply": "2025-02-20T20:10:21.125942Z"
        },
        "papermill": {
          "duration": 0.148243,
          "end_time": "2025-02-20T20:10:21.129486",
          "exception": false,
          "start_time": "2025-02-20T20:10:20.981243",
          "status": "completed"
        },
        "tags": [],
        "colab": {
          "base_uri": "https://localhost:8080/"
        },
        "id": "5d682caa",
        "outputId": "1c79f543-8edb-44ec-c971-940f244b8324"
      },
      "outputs": [
        {
          "output_type": "stream",
          "name": "stdout",
          "text": [
            "Epoch 0, Loss: 0.6101\n",
            "Epoch 100, Loss: 0.6100\n",
            "Epoch 200, Loss: 0.6099\n",
            "Epoch 300, Loss: 0.6098\n",
            "Epoch 400, Loss: 0.6097\n",
            "Epoch 500, Loss: 0.6096\n",
            "Epoch 600, Loss: 0.6095\n",
            "Epoch 700, Loss: 0.6094\n",
            "Epoch 800, Loss: 0.6092\n",
            "Epoch 900, Loss: 0.6091\n"
          ]
        }
      ],
      "source": [
        "\n",
        "for epoch in range(num_epochs):\n",
        "    #1. Forward propogate through the NN\n",
        "    Z1, A1, Z2, A2 = forward_propagation(X_train, W1, b1, W2, b2)\n",
        "\n",
        "    #2. Let's calculate the loss (BCE)\n",
        "    loss = binary_cross_entropy(y_train, A2)\n",
        "\n",
        "    #3. Now Backward propogate and calculate the gradients of the w1,b1, w2, and b2\n",
        "    dW1, db1, dW2, db2 = backward_propagation(X_train, y_train, A1, A2, W2)\n",
        "\n",
        "    #4. Finally udpate the learnable  parameters using the formula and learning rate 0.5\n",
        "    W1, b1, W2, b2 = update_weights(W1, b1, W2, b2, dW1, db1, dW2, db2, learning_rate=0.5)\n",
        "\n",
        "    ''' and we will repeat this process of updating weights and biases 1000 times in each iteration\n",
        "    we pass the complate data having 10 rows.'''\n",
        "    if epoch % 100 == 0:\n",
        "        print(f'Epoch {epoch}, Loss: {loss:.4f}')\n"
      ]
    },
    {
      "cell_type": "code",
      "source": [
        "# W1, b1, W2, b2 = update_weights(W1, b1, W2, b2, dW1, db1, dW2, db2, learning_rate=0.5)"
      ],
      "metadata": {
        "id": "pr8qsJiRbog0"
      },
      "id": "pr8qsJiRbog0",
      "execution_count": 41,
      "outputs": []
    },
    {
      "cell_type": "code",
      "source": [
        "# print(\"W1 : \",W1)\n",
        "# print(\"b1 : \",b1)\n",
        "# print(\"W2 : \",W2)\n",
        "# print(\"b2 : \",b2)"
      ],
      "metadata": {
        "colab": {
          "base_uri": "https://localhost:8080/"
        },
        "id": "FwpBqn5ubrSj",
        "outputId": "b55216fe-851a-4b9c-9237-ff9ca00316d9"
      },
      "id": "FwpBqn5ubrSj",
      "execution_count": 43,
      "outputs": [
        {
          "output_type": "stream",
          "name": "stdout",
          "text": [
            "W1 :  [[-0.15290717 -0.282514  ]\n",
            " [ 0.65655591  1.38954684]\n",
            " [-0.00411273 -0.16395907]]\n",
            "b1 :  [[ 1.67405505]\n",
            " [ 0.52097064]\n",
            " [-0.52400725]]\n",
            "W2 :  [[ 0.82430651 -0.6198118  -0.08072914]]\n",
            "b2 :  [[0.70621625]]\n"
          ]
        }
      ]
    },
    {
      "cell_type": "code",
      "execution_count": 28,
      "id": "3186bd2c",
      "metadata": {
        "execution": {
          "iopub.execute_input": "2025-02-20T20:10:21.137868Z",
          "iopub.status.busy": "2025-02-20T20:10:21.137388Z",
          "iopub.status.idle": "2025-02-20T20:10:21.143315Z",
          "shell.execute_reply": "2025-02-20T20:10:21.142062Z"
        },
        "papermill": {
          "duration": 0.012138,
          "end_time": "2025-02-20T20:10:21.145164",
          "exception": false,
          "start_time": "2025-02-20T20:10:21.133026",
          "status": "completed"
        },
        "tags": [],
        "id": "3186bd2c"
      },
      "outputs": [],
      "source": [
        "# Evaluating on test data\n",
        "Z1_test = np.dot(W1, X_test) + b1\n",
        "A1_test = sigmoid(Z1_test)\n",
        "Z2_test = np.dot(W2, A1_test) + b2\n",
        "A2_test = sigmoid(Z2_test) #predicted_y"
      ]
    },
    {
      "cell_type": "code",
      "execution_count": 29,
      "id": "5b6f1532",
      "metadata": {
        "execution": {
          "iopub.execute_input": "2025-02-20T20:10:21.153201Z",
          "iopub.status.busy": "2025-02-20T20:10:21.152803Z",
          "iopub.status.idle": "2025-02-20T20:10:21.158721Z",
          "shell.execute_reply": "2025-02-20T20:10:21.157485Z"
        },
        "papermill": {
          "duration": 0.01243,
          "end_time": "2025-02-20T20:10:21.161056",
          "exception": false,
          "start_time": "2025-02-20T20:10:21.148626",
          "status": "completed"
        },
        "tags": [],
        "colab": {
          "base_uri": "https://localhost:8080/"
        },
        "id": "5b6f1532",
        "outputId": "047ae3ae-b717-4c16-be21-08dc21d18357"
      },
      "outputs": [
        {
          "output_type": "stream",
          "name": "stdout",
          "text": [
            "Final Training Loss: 0.6109\n",
            "Test Loss: 0.6886\n"
          ]
        }
      ],
      "source": [
        "#Let's calculate the loss of the actual y and predicted y\n",
        "test_loss = binary_cross_entropy(y_test, A2_test)\n",
        "print(f'Final Training Loss: {loss:.4f}')\n",
        "print(f'Test Loss: {test_loss:.4f}')"
      ]
    }
  ],
  "metadata": {
    "kaggle": {
      "accelerator": "none",
      "dataSources": [
        {
          "datasetId": 6708890,
          "sourceId": 10807900,
          "sourceType": "datasetVersion"
        }
      ],
      "dockerImageVersionId": 30886,
      "isGpuEnabled": false,
      "isInternetEnabled": false,
      "language": "python",
      "sourceType": "notebook"
    },
    "kernelspec": {
      "display_name": "Python 3",
      "language": "python",
      "name": "python3"
    },
    "language_info": {
      "codemirror_mode": {
        "name": "ipython",
        "version": 3
      },
      "file_extension": ".py",
      "mimetype": "text/x-python",
      "name": "python",
      "nbconvert_exporter": "python",
      "pygments_lexer": "ipython3",
      "version": "3.10.12"
    },
    "papermill": {
      "default_parameters": {},
      "duration": 4.890585,
      "end_time": "2025-02-20T20:10:21.785526",
      "environment_variables": {},
      "exception": null,
      "input_path": "__notebook__.ipynb",
      "output_path": "__notebook__.ipynb",
      "parameters": {},
      "start_time": "2025-02-20T20:10:16.894941",
      "version": "2.6.0"
    },
    "colab": {
      "provenance": []
    }
  },
  "nbformat": 4,
  "nbformat_minor": 5
}